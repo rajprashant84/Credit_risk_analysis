{
 "cells": [
  {
   "cell_type": "code",
   "execution_count": null,
   "metadata": {},
   "outputs": [],
   "source": [
    "# In your Jupyter Notebook\n",
    "import pandas as pd\n",
    "import matplotlib.pyplot as plt\n",
    "import seaborn as sns\n",
    "\n",
    "# Load the data\n",
    "data_path = '../data/credit_risk_data.csv'\n",
    "data = pd.read_csv(data_path)\n",
    "\n",
    "# Display the first few rows\n",
    "data.head()\n",
    "\n",
    "# Summary statistics\n",
    "data.describe()\n",
    "\n",
    "# Check for missing values\n",
    "data.isnull().sum()\n",
    "\n",
    "# Visualize the target variable distribution\n",
    "sns.countplot(x='target', data=data)\n",
    "plt.show()\n",
    "\n",
    "# More EDA as needed\n"
   ]
  }
 ],
 "metadata": {
  "language_info": {
   "name": "python"
  }
 },
 "nbformat": 4,
 "nbformat_minor": 2
}
